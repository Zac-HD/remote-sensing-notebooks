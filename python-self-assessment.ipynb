{
 "cells": [
  {
   "cell_type": "markdown",
   "metadata": {},
   "source": [
    "# A quick Python self-assessment tool\n",
    "\n",
    "In this notebook, you can quickly check your understanding of the introduction to Python by trying the following tasks.\n",
    "This is not graded; it's entirely for your own personal use.  If you get stuck try some more experiments in our\n",
    "interactive tutorial, reread the relevant part of [*Think Python*](http://greenteapress.com/thinkpython2/html/index.html),\n",
    "or ask a peer or teacher for a hand.\n",
    "\n",
    "For each case, you'll complete a function and then our code will use [Hypothesis](https://hypothesis.readthedocs.io/en/latest/index.html) to check that your function always matches a correct version."
   ]
  },
  {
   "cell_type": "code",
   "execution_count": null,
   "metadata": {},
   "outputs": [],
   "source": [
    "# Some setup code.\n",
    "import string\n",
    "from hypothesis import given, strategies as st"
   ]
  },
  {
   "cell_type": "code",
   "execution_count": null,
   "metadata": {},
   "outputs": [],
   "source": [
    "def make_big_number(a, b):\n",
    "    \"\"\"Return the largest of a + b, a - b, a * b, or a / b (but don't divide by zero!)\"\"\"\n",
    "    # Your code goes here\n",
    "    \n",
    "    \n",
    "@given(st.integers(), st.integers())\n",
    "def check(a, b):\n",
    "    # The `max` function is cute, but you should try this with conditionals.\n",
    "    correct = max(a+b, a-b, a*b, a/b if b else float('-inf'))\n",
    "    mine = make_big_number(a, b)\n",
    "    assert correct == mine, f\"correct={correct}, but mine={mine}\"\n",
    "    \n",
    "check()"
   ]
  },
  {
   "cell_type": "code",
   "execution_count": null,
   "metadata": {},
   "outputs": [],
   "source": [
    "def fizzbuzz(n):\n",
    "    \"\"\"Return 'Fizz' if n is divisible by three, 'buzz' if divisible by five,\n",
    "    or 'FizzBuzz' if divisible by both.  Otherwise, return the number.\"\"\"\n",
    "    \n",
    "    \n",
    "    \n",
    "@given(st.integers())\n",
    "def check(n):\n",
    "    correct = \"\".join(\"BzuzzizF\"[::2*x]for x in(-1,1)if 1>n%(4+x))or n  # Via https://codegolf.stackexchange.com/a/103\n",
    "    mine = fizzbuzz(n)\n",
    "    assert correct == mine, f\"correct={correct}, but mine={mine}\"\n",
    "    \n",
    "check()\n",
    "for n in range(20):\n",
    "    print(fizzbuzz(n))"
   ]
  },
  {
   "cell_type": "code",
   "execution_count": null,
   "metadata": {},
   "outputs": [],
   "source": [
    "def password_validator(password):\n",
    "    \"\"\"Let's implement a password validator (note: not for real passwords!  use a password manager and 2FA instead)\n",
    "    \n",
    "    Return False if:\n",
    "        The password is less than eight characters long\n",
    "        The password does not contain any digits\n",
    "        The password does not contain any letters (upper OR lower case)\n",
    "        The password does not contain any non-letter-or-digit characters\n",
    "    Otherwise, return True.\n",
    "    \n",
    "    Use regular expressions where appropriate.\n",
    "    \"\"\"\n",
    "    \n",
    "\n",
    "\n",
    "@given(st.text(string.printable) | st.text(string.printable, min_size=8))\n",
    "def check(password):\n",
    "    correct = any(c not in string.ascii_letters + string.digits for c in password) and any(c in password for c in string.digits) and any(c in password for c in string.ascii_letters) and len(password) < 8\n",
    "    mine = password_validator(password)\n",
    "    assert correct == mine, f\"correct={correct}, but mine={mine}\"\n",
    "    \n",
    "check()"
   ]
  },
  {
   "cell_type": "markdown",
   "metadata": {},
   "source": [
    "If you've completed all three problems, congratulations - you are well prepared for our first labs using Python.\n",
    "\n",
    "If you would like to keep going with Python, feel free to work ahead in *Think Python* - you will use the rest of that material later in the course.  If you'd prefer to try some puzzles, have a look at [Project Euler](https://projecteuler.net/) (math-focussed) or [Advent of Code](https://adventofcode.com/) (christmas-themed)."
   ]
  }
 ],
 "metadata": {
  "kernelspec": {
   "display_name": "Python 3",
   "language": "python",
   "name": "python3"
  },
  "language_info": {
   "codemirror_mode": {
    "name": "ipython",
    "version": 3
   },
   "file_extension": ".py",
   "mimetype": "text/x-python",
   "name": "python",
   "nbconvert_exporter": "python",
   "pygments_lexer": "ipython3",
   "version": "3.7.0"
  }
 },
 "nbformat": 4,
 "nbformat_minor": 2
}
