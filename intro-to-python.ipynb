{
 "cells": [
  {
   "cell_type": "markdown",
   "metadata": {},
   "source": [
    "# Welcome to the 3Ai Intro to Python\n",
    "\n",
    "The goal of this tutorial is to get you comfortable with *just* enough Python for our lab activities in week 2 (deconstructing).  \n",
    "\n",
    "If you like learning from books, [*Think Python* 2ed](http://greenteapress.com/thinkpython2/html/index.html)\n",
    "is our recommended text and goes into more detail than this interactive tutorial.\n",
    "Over the rest of the lab, we'll be using a lot more Python - and it's useful skill in many situations -\n",
    "so you will probably use everything in *Think Python*.  For this week, reading up to and including\n",
    "chapter 7 on iteration will make you very well prepared indeed.\n",
    "\n",
    "\n",
    "### If you've programmed before\n",
    "\n",
    "Along with [*Think Python*](http://greenteapress.com/thinkpython2/html/index.html),\n",
    "the [official Python tutorial](https://docs.python.org/3/tutorial/) is dry but comprehensive\n",
    "(much like the rest of the official documentation).\n",
    "\n",
    "*Fluent Python* (by Luciano Ramalho) is an excellent resource if you would like to be a\n",
    "Python expert, covering lots of language-specific tips that you might not know even if \n",
    "if you've been using Python for years.\n",
    "\n",
    "Finally: please still skim through this notebook, just so we know that everyone is on the same page.\n",
    "\n",
    "\n",
    "## Python as a calculator\n",
    "\n",
    "Jupyter notebook tips:\n",
    "- the last value in a cell will be shown after the cell\n",
    "- you can show any other values using the `print()` function (named in a time before computers had screens!)\n",
    "- `shift-enter` executes a cell, or you can use the buttons in the toolbar at the top of the window\n",
    "- you can add new cells with the `Insert` menu in the toolbar\n",
    "- [here's the official introduction](https://jupyter-notebook.readthedocs.io/en/latest/notebook.html) and documentation"
   ]
  },
  {
   "cell_type": "code",
   "execution_count": null,
   "metadata": {},
   "outputs": [],
   "source": [
    "# Lines starting with a \"#\", or the part of a line after a \"#\" are comments.  Python ignores them entirely.\n",
    "\n",
    "# We can use Python as a calculator:\n",
    "5 + 6"
   ]
  },
  {
   "cell_type": "code",
   "execution_count": null,
   "metadata": {},
   "outputs": [],
   "source": [
    "# We can also divide, multiply, and so on:\n",
    "5 * (2 ** 3) / 8  # Note: useless parentheses due to order of operations, but useful for clarity"
   ]
  },
  {
   "cell_type": "code",
   "execution_count": null,
   "metadata": {},
   "outputs": [],
   "source": [
    "# Finally, we can name a value to refer to it later.  \n",
    "# This is called assigning to a variable, but the 'variable' is just a name for the value.\n",
    "a = 1 + 2\n",
    "b = 3 * a\n",
    "b"
   ]
  },
  {
   "cell_type": "markdown",
   "metadata": {},
   "source": [
    "In python, every *value* has a *type* which determines what operations you can do with them and what the results will be."
   ]
  },
  {
   "cell_type": "code",
   "execution_count": null,
   "metadata": {},
   "outputs": [],
   "source": [
    "\"hello\" * 3"
   ]
  },
  {
   "cell_type": "code",
   "execution_count": null,
   "metadata": {},
   "outputs": [],
   "source": [
    "\"hello\" / 3"
   ]
  },
  {
   "cell_type": "markdown",
   "metadata": {},
   "source": [
    "Make sense?  You can check what type something is with the `type` function.  \n",
    "(the `type` function returns a value of the `type` type.  Yep, self-referential!)"
   ]
  },
  {
   "cell_type": "markdown",
   "metadata": {},
   "source": [
    "type(1)"
   ]
  },
  {
   "cell_type": "code",
   "execution_count": null,
   "metadata": {},
   "outputs": [],
   "source": [
    "type(2.0)"
   ]
  },
  {
   "cell_type": "code",
   "execution_count": null,
   "metadata": {},
   "outputs": [],
   "source": [
    "type(\"3\")"
   ]
  },
  {
   "cell_type": "code",
   "execution_count": null,
   "metadata": {},
   "outputs": [],
   "source": [
    "type(str)"
   ]
  },
  {
   "cell_type": "code",
   "execution_count": null,
   "metadata": {},
   "outputs": [],
   "source": [
    "type(type)  # Wow!"
   ]
  },
  {
   "cell_type": "markdown",
   "metadata": {},
   "source": [
    "You can [read about Python's built-in types here](https://docs.python.org/3/library/stdtypes.html), in all it's official and extremely detailed glory.\n",
    "\n",
    "The only important note for now is that `1` is an *integer*, which in Python can be any whole number.  If you try to calculate extremely large integers, you might use a lot of time and memory but the result will be correct (and in this sense `10 ** 10000`, one followed by ten thousand zeros, is not extremely large - but a million zeros might take several minutes)\n",
    "\n",
    "On the other hand, `2.0` is a *floating-point number* (`float` for short).  Floating-point numbers are scientific notation in binary: numbers are stored as a *significand* and an *exponent*.  For example, `0.25 == 1 * 2 ** -2` or `12.0 == 3 * 2 ** 2`.  \n",
    "Floats can also be surprising sometimes, because they cannot exactly represent many values, just as `1/3` cannot be exactly represented as a decimal of limited length.  [Wikipedia has a detailed overview](https://en.wikipedia.org/wiki/Floating-point_arithmetic) if you are interested, but all you need to remember is that results from a floating-point calculation might not be exactly the same as with real numbers.\n",
    "\n",
    "## Conditionals\n",
    "\n",
    "A key part of any programming language is making decisions based on values.  In Python, this is done with the `if`, `elif`, and `else` keywords."
   ]
  },
  {
   "cell_type": "code",
   "execution_count": null,
   "metadata": {},
   "outputs": [],
   "source": [
    "value = True  # or False - try changing it!\n",
    "if value:\n",
    "    print(\"value was True\")"
   ]
  },
  {
   "cell_type": "markdown",
   "metadata": {},
   "source": [
    "You can check whether things are equal with `==`, or unequal with `!=`.  \n",
    "\n",
    "Note that we write the condition followed by a colon (`:`), then the action to take is indented - that's how Python can tell what code goes with each condition!"
   ]
  },
  {
   "cell_type": "code",
   "execution_count": null,
   "metadata": {},
   "outputs": [],
   "source": [
    "# Only one of the following branches will be executed.  Can you guess which?\n",
    "value = 7\n",
    "if value % 2 == 0:\n",
    "    print(value, \"is even\")\n",
    "elif value % 3 == 0:\n",
    "    print(value, \"is divisible by three but is not even\")\n",
    "else:\n",
    "    print(value, \"is not divisible by two or by three\")\n",
    "    print(\"Try again!\")"
   ]
  },
  {
   "cell_type": "markdown",
   "metadata": {},
   "source": [
    "Python will treat the number zero as False, and empty collections, as False for the purposes of conditionals, regardless of type.  Other numbers and values are treated as True.\n",
    "\n",
    "## Functions\n",
    "\n",
    "Functions are how you can define a reusable piece of code, or reuse code that someone else has written.  They look like this:"
   ]
  },
  {
   "cell_type": "code",
   "execution_count": null,
   "metadata": {},
   "outputs": [],
   "source": [
    "def plus_two(x):\n",
    "    return x + 2\n",
    "\n",
    "result = plus_two(3)\n",
    "result"
   ]
  },
  {
   "cell_type": "markdown",
   "metadata": {},
   "source": [
    "Functions that finish without a `return` statement always return `None` - a special object that means \"no result\" by Python convention."
   ]
  },
  {
   "cell_type": "code",
   "execution_count": null,
   "metadata": {},
   "outputs": [],
   "source": [
    "result = print(\"Hello!\")\n",
    "print(result)  # We have to print it, because the notebook knows to ignore None."
   ]
  },
  {
   "cell_type": "markdown",
   "metadata": {},
   "source": [
    "Functions are themselves a kind of value, so we can do plenty of things beyond just calling them."
   ]
  },
  {
   "cell_type": "code",
   "execution_count": null,
   "metadata": {},
   "outputs": [],
   "source": [
    "def fibonacci(n):\n",
    "    \"\"\"Calculate the `n`th fibbonacci number.\"\"\"\n",
    "    # We'll use an assertion to check that the input is valid\n",
    "    assert n >= 0, \"There are no negative fibbonacci numbers\"\n",
    "    # Then a conditional to calculate the value.    \n",
    "    if n == 0:\n",
    "        return 0\n",
    "    elif n == 1:\n",
    "        return 1\n",
    "    else:\n",
    "        # Functions can call other functions, or even themselves\n",
    "        result = fibonacci(n - 1) + fibonacci(n - 2)\n",
    "        # Uncomment the print line to see why this is inefficient\n",
    "        print('  ' * (n - 2), f\"fibonacci({n}) == {result}\")\n",
    "        return result\n",
    "    \n",
    "fibonacci(6)"
   ]
  },
  {
   "cell_type": "markdown",
   "metadata": {},
   "source": [
    "You can read about the [list](http://greenteapress.com/thinkpython2/html/thinkpython2011.html) and [dict](http://greenteapress.com/thinkpython2/html/thinkpython2012.html) types in *Think Python*.  A list is an ordered collection where we can get the value at each offset from the start (\"index\", so the first values is at index `0`, and so on).  A dict is a collection where you can look up each value by a corresponding key - the keys are not ordered, but you can use immutable (technically hashable) type as a key.\n",
    "\n",
    "Both lists and dicts are mutable because we can insert new values into them.  Let's use this to make `fibonacci(n)` more efficient."
   ]
  },
  {
   "cell_type": "code",
   "execution_count": null,
   "metadata": {},
   "outputs": [],
   "source": [
    "known_list = [0, 1]\n",
    "\n",
    "def fibonacci_with_list(n):\n",
    "    \"\"\"Calculate the `n`th fibbonacci number, more efficiently.\"\"\"\n",
    "    assert n >= 0, \"There are no negative fibbonacci numbers\"\n",
    "    while n >= len(known_list):\n",
    "        print(f\"calculating fibonacci({len(known_list)})\")\n",
    "        x = known_list[-1] + known_list[-2]\n",
    "        known_list.append(x)  # explained below\n",
    "    return known_list[n]\n",
    "    \n",
    "print(fibonacci_with_list(6))\n",
    "print(fibonacci_with_list(10))  # Note: we can reuse our work from last time!\n",
    "known_list"
   ]
  },
  {
   "cell_type": "code",
   "execution_count": null,
   "metadata": {},
   "outputs": [],
   "source": [
    "known_dict = {0: 0, 1: 1}\n",
    "\n",
    "def fibonacci_with_dict(n):\n",
    "    \"\"\"Calculate the `n`th fibbonacci number, more efficiently.\"\"\"\n",
    "    assert n >= 0, \"There are no negative fibbonacci numbers\"\n",
    "    if n not in known_dict:\n",
    "        print(f\"calculating fibonacci({n})\")\n",
    "        known_dict[n] = fibonacci_with_dict(n - 1) + fibonacci_with_dict(n - 2)\n",
    "    return known_dict[n]\n",
    "    \n",
    "print(fibonacci_with_dict(6))\n",
    "print(fibonacci_with_dict(10))\n",
    "known_dict"
   ]
  },
  {
   "cell_type": "markdown",
   "metadata": {},
   "source": [
    "## Objects and methods\n",
    "\n",
    "Every value in Python is an \"object\", which can have attributes of various types.  You can get an attribute of an object with a dot: for example `list.append` is a function that takes a list and a value, appends the value to the list, and returns None.\n",
    "\n",
    "What makes this particularly cool is that *specific* lists all have an `append` attribute with themselves pre-filled as the first argument."
   ]
  },
  {
   "cell_type": "code",
   "execution_count": null,
   "metadata": {},
   "outputs": [],
   "source": [
    "ls = [1, 2, 3]\n",
    "ls.append(4)  # this is equivalent\n",
    "list.append(ls, 5)  # to this!\n",
    "ls"
   ]
  },
  {
   "cell_type": "markdown",
   "metadata": {},
   "source": [
    "You can also \"import\" code by other programmers, which gives you a value of the \"module\" type... which has all their functions as attributes.  For example:"
   ]
  },
  {
   "cell_type": "code",
   "execution_count": null,
   "metadata": {},
   "outputs": [],
   "source": [
    "import math\n",
    "\n",
    "math.degrees(math.pi)  # converts from radians"
   ]
  },
  {
   "cell_type": "markdown",
   "metadata": {},
   "source": [
    "In a Jupyter notebook, you can also use \"tab-completion\" to find out what attributes an object might have.  Just type the name of the object, a dot, then hit the tab key.  Like `math.<tab>`!  Starting to type a name before or after hitting tab will narrow down the list.\n",
    "\n",
    "## Regular expressions\n",
    "\n",
    "Regular expressions are a way of describing text that follows a particular pattern.  The term comes from computer science, where *efficiently* searching for or replacing particular parts of some text was a very important problem in the days before most computers had screens!\n",
    "\n",
    "They are supported by many command-line tools, and almost all programming languages.  You can see [Python's documentation here](https://docs.python.org/3/library/re.html).\n",
    "\n",
    "However, **reading about the syntax isn't usually helpful for learning to use them**.  I highly recommend [the interactive tutorial and practice problems at RegexOne](https://regexone.com/).  Go do those now, then come back."
   ]
  },
  {
   "cell_type": "code",
   "execution_count": null,
   "metadata": {},
   "outputs": [],
   "source": [
    "import re  # Python's \"re\"gular expression library.  Programmers like short names!"
   ]
  },
  {
   "cell_type": "code",
   "execution_count": null,
   "metadata": {},
   "outputs": [],
   "source": [
    "# Fill out the following table with which expressions match:\n",
    "table = [\n",
    "    # Replace each None with True if it should match or False otherwise\n",
    "    [\"Zac\", \"Zac knows regex\", None],\n",
    "    [\"cat\", \"bat\", None],\n",
    "    [\"^regex\", \"Zac knows regex\", None],\n",
    "    [\"(.*)?\", \"Will this match?\", False],\n",
    "    # Now form a group with others who are ready at the same time and add your own for them to try.\n",
    "]\n",
    "for pattern, string, should_match in table:\n",
    "    if should_match is not None:\n",
    "        match = re.search(pattern, string)\n",
    "        assert should_match == bool(match), \"Nope, not \" + repr(pattern)\n",
    "print(\"Congratulations - you got them all right!\")"
   ]
  },
  {
   "cell_type": "code",
   "execution_count": null,
   "metadata": {},
   "outputs": [],
   "source": []
  }
 ],
 "metadata": {
  "kernelspec": {
   "display_name": "Python 3",
   "language": "python",
   "name": "python3"
  },
  "language_info": {
   "codemirror_mode": {
    "name": "ipython",
    "version": 3
   },
   "file_extension": ".py",
   "mimetype": "text/x-python",
   "name": "python",
   "nbconvert_exporter": "python",
   "pygments_lexer": "ipython3",
   "version": "3.6.5"
  }
 },
 "nbformat": 4,
 "nbformat_minor": 2
}
